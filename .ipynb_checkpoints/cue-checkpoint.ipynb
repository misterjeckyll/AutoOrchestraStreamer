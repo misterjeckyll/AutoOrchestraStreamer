{
 "cells": [
  {
   "cell_type": "markdown",
   "metadata": {},
   "source": [
    "## Importation des modules"
   ]
  },
  {
   "cell_type": "code",
   "execution_count": null,
   "metadata": {},
   "outputs": [],
   "source": [
    "import cv2\n",
    "import re\n",
    "import numpy as np\n",
    "import markdown\n",
    "from html.parser import HTMLParser\n",
    "import skvideo\n",
    "skvideo.setFFmpegPath(r'C:\\ProgramData\\chocolatey\\lib\\ffmpeg\\tools\\ffmpeg\\bin')\n",
    "import skvideo.io\n",
    "import skvideo.datasets\n",
    "import skvideo.utils\n",
    "import subprocess    "
   ]
  },
  {
   "cell_type": "markdown",
   "metadata": {},
   "source": [
    "## Chargement de la vidéo"
   ]
  },
  {
   "cell_type": "code",
   "execution_count": null,
   "metadata": {},
   "outputs": [],
   "source": [
    "videoiter = skvideo.io.vreader(\"snowman.mp4\")\n",
    "im = next(videoiter)\n",
    "h,w,c = im.shape\n",
    "\n",
    "fps = 25\n",
    "print(f\"fps : {fps}    Width: {w}    Height: {h}\")"
   ]
  },
  {
   "cell_type": "markdown",
   "metadata": {},
   "source": [
    "## Lecture du fichier description"
   ]
  },
  {
   "cell_type": "code",
   "execution_count": null,
   "metadata": {},
   "outputs": [],
   "source": [
    "class HTMLCueParser(HTMLParser):\n",
    "    \n",
    "    def __init__(self, html, fps=25):\n",
    "        self.fps = fps\n",
    "        self.frames = {}\n",
    "        self.current = None\n",
    "        self.last = {'h1':None,'h2':None,'li':None}\n",
    "        super().__init__()\n",
    "        self.feed(html)\n",
    "    \n",
    "    def handle_starttag(self, start_tag, attrs):\n",
    "        self.current = start_tag\n",
    "\n",
    "    def handle_endtag(self, end_tag):\n",
    "        if self.current and self.current == end_tag:\n",
    "            self.current = None\n",
    "\n",
    "    def handle_data(self, data):\n",
    "        if self.current in self.last.keys():\n",
    "            print(data)\n",
    "            timecode, text = self.get_cue(data)\n",
    "            M, s, m = timecode.split(':')\n",
    "            framecount = int(int(M)*60*fps + int(s)*fps + int(m)*fps/10)\n",
    "            lastframe = self.last[self.current]\n",
    "            if lastframe is not None:\n",
    "                self.frames[lastframe]['duration'] = framecount - lastframe\n",
    "            self.last[self.current] = framecount\n",
    "            self.frames[framecount] = {'text':text,'type':self.current, 'duration':None,'start':framecount}\n",
    "            \n",
    "    def get_cue(self, data):\n",
    "        regex = re.search('^(\\d+:\\d+:\\d+)\\s+(.*)', data)\n",
    "        return regex.group(1), regex.group(2)\n",
    "            \n",
    "    def getCues(self):\n",
    "        return self.frames\n",
    "            \n",
    "    def __repr__(self):\n",
    "        return self.frames.__repr__()"
   ]
  },
  {
   "cell_type": "code",
   "execution_count": null,
   "metadata": {},
   "outputs": [],
   "source": [
    "with open(\"snowman.md\",\"r\",encoding=\"utf-8\") as file:\n",
    "    text = file.read()\n",
    "\n",
    "html = markdown.markdown(text)\n",
    "print(html)\n",
    "\n",
    "parser = HTMLCueParser(html, fps)\n",
    "cues = parser.getCues()\n",
    "\n",
    "print(cues)\n"
   ]
  },
  {
   "cell_type": "code",
   "execution_count": null,
   "metadata": {},
   "outputs": [],
   "source": [
    "WHITE = (255,255,255)\n",
    "PURPLE = (255,255,0)\n",
    "BLACK = (0,0,0)\n",
    "GREEN = (0,255,0)\n",
    "font = cv2.FONT_HERSHEY_DUPLEX"
   ]
  },
  {
   "cell_type": "code",
   "execution_count": null,
   "metadata": {},
   "outputs": [],
   "source": [
    "def imap(value, fromMin, fromMax, toMin, toMax):\n",
    "    # Figure out how 'wide' each range is\n",
    "    fromSpan = fromMax - fromMin\n",
    "    toSpan = toMax - toMin\n",
    "\n",
    "    # Convert the left range into a 0-1 range (float)\n",
    "    valueScaled = float(value - fromMin) / float(fromSpan)\n",
    "\n",
    "    # Convert the 0-1 range into a value in the right range.\n",
    "    return int(toMin + (valueScaled * toSpan))\n",
    "\n",
    "def frames_to_TC (frames, fps):\n",
    "    \"\"\"\n",
    "    # Hours: Divide frames by 86400 (# of frames in an hour at 24fps). Round down to nearest integer.\n",
    "    # Minutes: Divide frames by 1440 (# of frames in a minute). This gives you the total number of minutes, which might be 122 for\n",
    "    #          content that is 2 hours, 2 minutes, but you don't want the hours here. You're only interested in the extra 2 minutes.\n",
    "    #          Modulo 60 will remove all full hours and return only the remaining minutes.\n",
    "    # Seconds: frames % 1440 removes all full minutes and returns the number of remaining frames. \n",
    "    #          Divide that by 24 to convert to seconds, and round down to nearest integer.\n",
    "    # Frames:  frames % 1440 removes all full minutes and returns the number of remaining frames. \n",
    "    #          Take that number and modulo 24 to removes all full seconds, leaving you with the remaining # of frames.\n",
    "    # Lastly, take those variables and put them into a string with colons between each one.\n",
    "    \"\"\"\n",
    "    #h = int(frames / 86400) \n",
    "    m = int(frames / (60*fps)) % 60 \n",
    "    s = int((frames % (60*fps))/fps) \n",
    "    f = int(frames % (60*fps) % fps)\n",
    "    mil = imap(f, 0,25,0,10)\n",
    "    return f\"{m:02}:{s:02}:{mil}\"\n",
    "    #return ( \"%02d:%02d:%02d:%02d\" % ( h, m, s, f))"
   ]
  },
  {
   "cell_type": "code",
   "execution_count": null,
   "metadata": {},
   "outputs": [],
   "source": [
    "writer = skvideo.io.FFmpegWriter(f\"snowman_track.mp4\", outputdict={'-aspect':'16:9'})\n",
    "videoiter = skvideo.io.vreader(\"snowman.mp4\")\n",
    "\n",
    "itercues = iter(cues)\n",
    "\n",
    "cue = next(itercues)\n",
    "nextcue = next(itercues)\n",
    "\n",
    "current_section = cues[cue]\n",
    "current_subsection = None\n",
    "\n",
    "shift = -1\n",
    "# Read until video is completed\n",
    "for f, frame in enumerate(videoiter,0):\n",
    "    if(frame.max() ==1):\n",
    "        shift+=1\n",
    "        continue\n",
    "        \n",
    "    f = f-shift\n",
    "\n",
    "    frame = cv2.cvtColor(frame, cv2.COLOR_RGB2BGR)\n",
    "    \n",
    "    if f == nextcue:\n",
    "        cue = f\n",
    "        try:\n",
    "            nextcue = next(itercues)\n",
    "            if cues[cue]['type'] == 'h1':\n",
    "                current_section = cues[cue]\n",
    "            elif cues[cue]['type'] == 'h2':\n",
    "                current_subsection = cues[cue]\n",
    "        except StopIteration:\n",
    "            break\n",
    "\n",
    "    # SECTION DRAWING\n",
    "    frame = cv2.rectangle(frame, (0,0), (w,50), BLACK, -1)\n",
    "    frame = cv2.putText(frame, current_section['text'], (5, 30),font, 1, (255,255,255), 2)\n",
    "    frame = cv2.rectangle(frame, (0,45), (int((f-cue)/current_section['duration']*w),50), GREEN, -1)\n",
    "    \n",
    "    # SUBSECTION DRAWING\n",
    "    if current_subsection:\n",
    "        rec_w = 100\n",
    "        rec_h = 50\n",
    "        frame = cv2.rectangle(frame, (w-rec_w,55), (w,rec_h+55), BLACK, -1)\n",
    "        frame = cv2.putText(frame, current_subsection['text'], (w-rec_w+10, 55+rec_h-20),font, 1, (255,255,255), 2)\n",
    "        if current_subsection['duration']:\n",
    "            cue_start = current_subsection['start']\n",
    "            subsection_percent = int((f-cue_start)/current_subsection['duration']*rec_w+w-rec_w)\n",
    "            frame = cv2.rectangle(frame, (w-rec_w,rec_h+50), (subsection_percent,rec_h+55), PURPLE, -1)\n",
    "    \n",
    "    # TIMECODE DRAWING\n",
    "    frame = cv2.rectangle(frame, (0,h-25), (80,h), BLACK, -1)\n",
    "    frame = cv2.putText(frame, frames_to_TC(f, fps), (10,h-8),font, 0.5, (255,255,255), 1)\n",
    "\n",
    "    # Display the resulting frame\n",
    "    cv2.imshow('Frame', frame)\n",
    "    \n",
    "    if cv2.waitKey(25) & 0xFF == ord('q'): # Press Q on keyboard to  exit\n",
    "        break\n",
    "\n",
    "    writer.writeFrame(cv2.cvtColor(frame, cv2.COLOR_BGR2RGB))\n",
    "        \n",
    "# Closes all the frames\n",
    "cv2.destroyAllWindows()\n",
    "writer.close()\n",
    "subprocess.run(\"ffmpeg -i snowman_track.mp4 -i snowman.mp4 -c copy snowman_track_audio.mp4\")"
   ]
  },
  {
   "cell_type": "code",
   "execution_count": null,
   "metadata": {},
   "outputs": [],
   "source": []
  }
 ],
 "metadata": {
  "kernelspec": {
   "display_name": "snowman",
   "language": "python",
   "name": "snowman"
  },
  "language_info": {
   "codemirror_mode": {
    "name": "ipython",
    "version": 3
   },
   "file_extension": ".py",
   "mimetype": "text/x-python",
   "name": "python",
   "nbconvert_exporter": "python",
   "pygments_lexer": "ipython3",
   "version": "3.8.12"
  }
 },
 "nbformat": 4,
 "nbformat_minor": 4
}
