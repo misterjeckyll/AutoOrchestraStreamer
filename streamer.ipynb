{
 "cells": [
  {
   "cell_type": "markdown",
   "metadata": {},
   "source": [
    "## Importation des modules"
   ]
  },
  {
   "cell_type": "code",
   "execution_count": 1,
   "metadata": {},
   "outputs": [],
   "source": [
    "import cv2\n",
    "import re\n",
    "import numpy as np\n",
    "import markdown\n",
    "from html.parser import HTMLParser\n",
    "import skvideo\n",
    "skvideo.setFFmpegPath(r'C:\\ProgramData\\chocolatey\\lib\\ffmpeg\\tools\\ffmpeg\\bin')\n",
    "import skvideo.io\n",
    "import skvideo.datasets\n",
    "import skvideo.utils\n",
    "import subprocess    \n",
    "from IPython.core.display import display, HTML\n",
    "from bs4 import BeautifulSoup as Parse\n",
    "from fractions import Fraction\n",
    "from matplotlib import colors\n",
    "import random\n",
    "import os"
   ]
  },
  {
   "cell_type": "markdown",
   "metadata": {},
   "source": [
    "## Chargement de la vidéo"
   ]
  },
  {
   "cell_type": "code",
   "execution_count": 2,
   "metadata": {},
   "outputs": [
    {
     "name": "stdout",
     "output_type": "stream",
     "text": [
      "fps : 25    Width: 640    Height: 360    Duration: 1536s\n"
     ]
    }
   ],
   "source": [
    "IN_PATH = \"./videos/snowman_cut.mp4\"\n",
    "OUT_PATH = \"./videos/snowman_track.mp4\"\n",
    "OUT_AUDIO_PATH = \"./videos/snowman_track_audio.mp4\"\n",
    "\n",
    "# Read video metadata\n",
    "metadata = skvideo.io.ffprobe(IN_PATH)\n",
    "#print(metadata)\n",
    "\n",
    "fps = int(Fraction(metadata['video']['@avg_frame_rate']))\n",
    "width = int(metadata['video']['@width'])\n",
    "height = int(metadata['video']['@height'])\n",
    "length = int(float(metadata['video']['@duration_ts']))\n",
    "seconds = int(float(metadata['video']['@duration']))\n",
    "\n",
    "videoiter = skvideo.io.vreader(IN_PATH)\n",
    "\n",
    "print(f\"fps : {fps}    Width: {width}    Height: {height}    Duration: {seconds}s\")"
   ]
  },
  {
   "cell_type": "markdown",
   "metadata": {},
   "source": [
    "## Lecture du fichier description"
   ]
  },
  {
   "cell_type": "code",
   "execution_count": 3,
   "metadata": {},
   "outputs": [],
   "source": [
    "with open(\"snowman.md\",\"r\",encoding=\"utf-8\") as file:\n",
    "    text = file.read()\n",
    "\n",
    "html = markdown.markdown(text)\n",
    "#display(HTML(html))"
   ]
  },
  {
   "cell_type": "code",
   "execution_count": 4,
   "metadata": {},
   "outputs": [],
   "source": [
    "def struct(data):\n",
    "    regex = re.search('(\\d+:\\d+:\\d+)\\s*(.*)(?: /(\\w+))|(\\d+:\\d+:\\d+)\\s*(.*)', data)\n",
    "    if not regex:\n",
    "        return\n",
    "    timecode = regex.group(1) if regex.group(1) else regex.group(4)\n",
    "    text = regex.group(5) if regex.group(5) else regex.group(2)\n",
    "    color = regex.group(3)\n",
    "    if not color:\n",
    "        color = colors.to_rgb(random.choice(COLORS))\n",
    "    else:\n",
    "        color = colors.to_rgb(color)\n",
    "    color = [int(col*255) for col in color]\n",
    "    M, s, m = timecode.split(':')\n",
    "    framecount = int(int(M)*60*fps + int(s)*fps + int(m)*fps/10)\n",
    "    return dict(start=framecount, text = text, color=[color[2],color[1],color[0]])\n",
    "\n",
    "def add_duration(data):\n",
    "    new = []\n",
    "    for i, cue in enumerate(data, 1):\n",
    "        if i < len(data):\n",
    "            cue['duration'] = data[i]['start'] - cue['start']\n",
    "        else:\n",
    "            cue['duration'] = length - cue['start']\n",
    "\n",
    "        new.append(cue)\n",
    "    return new"
   ]
  },
  {
   "cell_type": "code",
   "execution_count": 5,
   "metadata": {},
   "outputs": [],
   "source": [
    "WHITE = (255,255,255)\n",
    "PURPLE = (255,255,0)\n",
    "BLACK = (0,0,0)\n",
    "GREEN = (0,255,0)\n",
    "# https://matplotlib.org/stable/_images/sphx_glr_named_colors_003.png\n",
    "COLORS = list(colors.cnames.keys())\n",
    "font = cv2.FONT_HERSHEY_DUPLEX\n",
    "stream_duration = fps*2"
   ]
  },
  {
   "cell_type": "code",
   "execution_count": 6,
   "metadata": {},
   "outputs": [
    {
     "name": "stdout",
     "output_type": "stream",
     "text": [
      "[{'start': 40, 'text': 'depart piano', 'color': [0, 255, 0]}, {'start': 600, 'text': 'Depart cordes', 'color': [0, 140, 255]}, {'start': 1165, 'text': '', 'color': [0, 255, 0]}, {'start': 1362, 'text': 'Solo flute', 'color': [0, 140, 255]}, {'start': 1555, 'text': 'Dainty', 'color': [0, 140, 255]}, {'start': 1792, 'text': '', 'color': [0, 255, 0]}, {'start': 2217, 'text': '', 'color': [0, 255, 0]}, {'start': 2735, 'text': '', 'color': [0, 255, 0]}, {'start': 2932, 'text': '', 'color': [0, 255, 0]}, {'start': 3295, 'text': 'Solo clarinet', 'color': [0, 140, 255]}, {'start': 3487, 'text': 'crash', 'color': [0, 140, 255]}, {'start': 3597, 'text': '', 'color': [0, 255, 0]}, {'start': 4025, 'text': '', 'color': [0, 255, 0]}, {'start': 4217, 'text': 'Solo flute', 'color': [0, 140, 255]}, {'start': 4812, 'text': 'Solo flute', 'color': [0, 140, 255]}, {'start': 5122, 'text': '', 'color': [0, 255, 0]}, {'start': 5212, 'text': 'Solo Flute', 'color': [0, 140, 255]}, {'start': 5410, 'text': 'Solo Flute', 'color': [0, 140, 255]}, {'start': 5687, 'text': 'F Dolce pt orgue', 'color': [0, 140, 255]}, {'start': 5957, 'text': 'mp Triolet noire', 'color': [0, 140, 255]}, {'start': 6360, 'text': '', 'color': [0, 255, 0]}, {'start': 6725, 'text': 'Horloge', 'color': [0, 140, 255]}, {'start': 6770, 'text': 'hautbois', 'color': [0, 140, 255]}, {'start': 7197, 'text': 'Cantabile', 'color': [0, 140, 255]}, {'start': 7540, 'text': '', 'color': [0, 255, 0]}, {'start': 8350, 'text': '', 'color': [0, 255, 0]}, {'start': 8925, 'text': 'picolo - après vous', 'color': [0, 140, 255]}, {'start': 8965, 'text': 'basson - merci', 'color': [0, 140, 255]}, {'start': 9497, 'text': '', 'color': [0, 255, 0]}, {'start': 9960, 'text': '', 'color': [0, 255, 0]}, {'start': 10707, 'text': '', 'color': [0, 255, 0]}, {'start': 11037, 'text': 'Montée', 'color': [0, 140, 255]}, {'start': 11225, 'text': '', 'color': [0, 140, 255]}, {'start': 11477, 'text': '', 'color': [0, 255, 0]}, {'start': 11527, 'text': 'switch', 'color': [0, 140, 255]}, {'start': 11935, 'text': 'solo starwars', 'color': [0, 140, 255]}, {'start': 12200, 'text': 'savon', 'color': [0, 140, 255]}, {'start': 12335, 'text': '', 'color': [0, 140, 255]}, {'start': 12600, 'text': '', 'color': [0, 255, 0]}, {'start': 13375, 'text': '', 'color': [0, 255, 0]}, {'start': 14035, 'text': 'changement tempo pizzicato', 'color': [0, 140, 255]}, {'start': 14132, 'text': 'Lumière', 'color': [0, 140, 255]}, {'start': 14277, 'text': '', 'color': [0, 255, 0]}, {'start': 14862, 'text': '', 'color': [0, 255, 0]}, {'start': 15250, 'text': 'percussion chapeau', 'color': [0, 140, 255]}, {'start': 15770, 'text': 'depart corde', 'color': [0, 140, 255]}, {'start': 16075, 'text': '', 'color': [0, 255, 0]}, {'start': 16595, 'text': 'Atchoum', 'color': [0, 140, 255]}, {'start': 16797, 'text': '', 'color': [0, 255, 0]}, {'start': 17095, 'text': 'glissade', 'color': [0, 140, 255]}, {'start': 17445, 'text': '', 'color': [0, 255, 0]}, {'start': 17847, 'text': '', 'color': [0, 255, 0]}, {'start': 18345, 'text': '', 'color': [0, 140, 255]}, {'start': 18432, 'text': '', 'color': [0, 255, 0]}, {'start': 19100, 'text': '', 'color': [0, 255, 0]}, {'start': 19692, 'text': '', 'color': [0, 140, 255]}, {'start': 19975, 'text': '', 'color': [0, 255, 0]}, {'start': 20475, 'text': '', 'color': [0, 255, 0]}, {'start': 20925, 'text': '', 'color': [0, 255, 0]}, {'start': 21400, 'text': '', 'color': [0, 255, 0]}, {'start': 21925, 'text': '', 'color': [0, 255, 0]}, {'start': 22215, 'text': 'moderato', 'color': [0, 140, 255]}, {'start': 22387, 'text': '', 'color': [0, 255, 0]}, {'start': 22810, 'text': '', 'color': [0, 255, 0]}, {'start': 23135, 'text': '', 'color': [0, 255, 0]}, {'start': 23320, 'text': 'soprane', 'color': [0, 140, 255]}, {'start': 24447, 'text': '', 'color': [0, 255, 0]}, {'start': 24820, 'text': 'Chant', 'color': [0, 140, 255]}, {'start': 25380, 'text': '', 'color': [0, 255, 0]}, {'start': 25850, 'text': '', 'color': [0, 255, 0]}, {'start': 26422, 'text': '35a)', 'color': [205, 235, 255]}, {'start': 26920, 'text': '', 'color': [0, 255, 0]}, {'start': 27092, 'text': 'baleine', 'color': [0, 140, 255]}, {'start': 27445, 'text': '', 'color': [0, 255, 0]}, {'start': 28455, 'text': '', 'color': [0, 255, 0]}, {'start': 29180, 'text': '', 'color': [0, 255, 0]}, {'start': 29525, 'text': '', 'color': [0, 255, 0]}, {'start': 29930, 'text': '', 'color': [0, 255, 0]}, {'start': 30330, 'text': '', 'color': [0, 255, 0]}, {'start': 30530, 'text': '', 'color': [0, 255, 0]}, {'start': 30935, 'text': '', 'color': [0, 255, 0]}, {'start': 31330, 'text': '', 'color': [0, 255, 0]}, {'start': 31730, 'text': '', 'color': [0, 255, 0]}, {'start': 32132, 'text': '', 'color': [0, 255, 0]}, {'start': 32467, 'text': '', 'color': [0, 255, 0]}, {'start': 32747, 'text': 'altos', 'color': [0, 140, 255]}, {'start': 33387, 'text': '', 'color': [0, 255, 0]}, {'start': 34487, 'text': '', 'color': [0, 255, 0]}, {'start': 35025, 'text': '', 'color': [0, 140, 255]}, {'start': 35367, 'text': '', 'color': [0, 140, 255]}, {'start': 35760, 'text': '', 'color': [0, 255, 0]}, {'start': 36697, 'text': 'depart piano', 'color': [0, 140, 255]}, {'start': 36832, 'text': '', 'color': [0, 255, 0]}, {'start': 37395, 'text': '', 'color': [0, 255, 0]}, {'start': 37970, 'text': '', 'color': [0, 140, 255]}]\n"
     ]
    }
   ],
   "source": [
    "parser = Parse(html)\n",
    "\n",
    "streamers = [struct(stream.text) for stream in parser.find_all('li') if struct(stream.text)]\n",
    "\n",
    "sections = [struct(section.text) for section in parser.find_all('h1') if struct(section.text)]\n",
    "sections = add_duration(sections)\n",
    "\n",
    "subsections = [struct(sub_section.text) for sub_section in parser.find_all('h2') if struct(sub_section.text)]\n",
    "subsections = add_duration(subsections)\n",
    "\n",
    "print(streamers)"
   ]
  },
  {
   "cell_type": "code",
   "execution_count": 7,
   "metadata": {},
   "outputs": [],
   "source": [
    "def imap(value, fromMin, fromMax, toMin, toMax):\n",
    "    # Figure out how 'wide' each range is\n",
    "    fromSpan = fromMax - fromMin\n",
    "    toSpan = toMax - toMin\n",
    "\n",
    "    # Convert the left range into a 0-1 range (float)\n",
    "    valueScaled = float(value - fromMin) / float(fromSpan)\n",
    "\n",
    "    # Convert the 0-1 range into a value in the right range.\n",
    "    return int(toMin + (valueScaled * toSpan))\n",
    "\n",
    "def frames_to_TC (frames, fps):\n",
    "    \"\"\"\n",
    "    # Hours: Divide frames by 86400 (# of frames in an hour at 24fps). Round down to nearest integer.\n",
    "    # Minutes: Divide frames by 1440 (# of frames in a minute). This gives you the total number of minutes, which might be 122 for\n",
    "    #          content that is 2 hours, 2 minutes, but you don't want the hours here. You're only interested in the extra 2 minutes.\n",
    "    #          Modulo 60 will remove all full hours and return only the remaining minutes.\n",
    "    # Seconds: frames % 1440 removes all full minutes and returns the number of remaining frames. \n",
    "    #          Divide that by 24 to convert to seconds, and round down to nearest integer.\n",
    "    # Frames:  frames % 1440 removes all full minutes and returns the number of remaining frames. \n",
    "    #          Take that number and modulo 24 to removes all full seconds, leaving you with the remaining # of frames.\n",
    "    # Lastly, take those variables and put them into a string with colons between each one.\n",
    "    \"\"\"\n",
    "    #h = int(frames / 86400) \n",
    "    m = int(frames / (60*fps)) % 60 \n",
    "    s = int((frames % (60*fps))/fps) \n",
    "    f = int(frames % (60*fps) % fps)\n",
    "    mil = imap(f, 0,25,0,10)\n",
    "    return f\"{m:02}:{s:02}:{mil}\"\n",
    "    #return ( \"%02d:%02d:%02d:%02d\" % ( h, m, s, f))\n",
    "    \n",
    "def rect(im, frompos, size, color, weight):\n",
    "    (fromx, fromy) = frompos\n",
    "    (width, height) = size\n",
    "    sub_img = im[fromy:fromy+height, fromx:fromx+width]\n",
    "    col_rect = np.full(sub_img.shape, color, np.uint8)\n",
    "\n",
    "    res = cv2.addWeighted(sub_img, weight, col_rect, 1, 0)\n",
    "\n",
    "    # Putting the image back to its position\n",
    "    im[fromy:fromy+height, fromx:fromx+width] = res\n",
    "    return im"
   ]
  },
  {
   "cell_type": "code",
   "execution_count": 8,
   "metadata": {},
   "outputs": [
    {
     "name": "stdout",
     "output_type": "stream",
     "text": [
      "0.0%\n",
      "3.90625%\n",
      "7.8125%\n",
      "11.71875%\n",
      "15.625%\n",
      "19.53125%\n",
      "23.4375%\n",
      "27.34375%\n",
      "31.25%\n",
      "35.15625%\n",
      "39.0625%\n",
      "42.96875%\n",
      "46.875%\n",
      "50.78125%\n",
      "54.6875%\n",
      "58.59375%\n",
      "62.5%\n",
      "66.40625%\n",
      "70.3125%\n",
      "74.21875%\n",
      "78.125%\n",
      "82.03125%\n",
      "85.9375%\n",
      "89.84375%\n",
      "93.75%\n",
      "97.65625%\n"
     ]
    },
    {
     "data": {
      "text/plain": [
       "CompletedProcess(args='ffmpeg -i ./videos/snowman_track.mp4 -r 25 -i ./videos/snowman_cut.mp4 -r 25 -c copy ./videos/snowman_track_audio.mp4 -r 25', returncode=0)"
      ]
     },
     "execution_count": 8,
     "metadata": {},
     "output_type": "execute_result"
    }
   ],
   "source": [
    "try:\n",
    "    os.remove(OUT_PATH)\n",
    "    os.remove(OUT_AUDIO_PATH) \n",
    "except FileNotFoundError:\n",
    "    pass\n",
    "writer = skvideo.io.FFmpegWriter(OUT_PATH)\n",
    "videoiter = skvideo.io.vreader(IN_PATH)\n",
    "\n",
    "sec = sections.copy()\n",
    "sub = subsections.copy()\n",
    "\n",
    "current_section = sec.pop(0)\n",
    "current_subsection = None\n",
    "if len(sub):\n",
    "    current_subsection = sub.pop(0)\n",
    "\n",
    "\n",
    "dot = None\n",
    "shift = 0\n",
    "# Read until video is completed\n",
    "try:\n",
    "    for f, frame in enumerate(videoiter,0):\n",
    "\n",
    "        frame = cv2.cvtColor(frame, cv2.COLOR_RGB2BGR)\n",
    "\n",
    "        #print(f, sec[0]['start'], sec[0]['duration'])\n",
    "        if len(sec) and f > sec[0]['start']:\n",
    "            current_section = sec.pop(0)\n",
    "\n",
    "        if len(sub) and f > sub[0]['start']:\n",
    "            current_subsection = sub.pop(0)\n",
    "\n",
    "        # STREAMER DRAWING\n",
    "        # get all streamers less than 2 seconds from current frame\n",
    "        next_streamers = [streamer for streamer in streamers if streamer['start'] > f > (streamer['start']-stream_duration)]\n",
    "        for streamer in next_streamers:\n",
    "            if not dot and f > streamer['start'] - 2:\n",
    "                dot = streamer\n",
    "            startx = int((stream_duration+f - streamer['start'])/stream_duration*width)\n",
    "            frame = rect(frame, (startx,0), (50, height), streamer['color'], 0)\n",
    "\n",
    "        # DOT DRAWING\n",
    "        if dot and dot['start'] < f < dot['start'] + fps/20:\n",
    "            frame = cv2.circle(frame, (int(width/2), int(height/2)), int(height * 0.5), dot['color'], -1)\n",
    "        elif dot and f > dot['start'] + fps/10:\n",
    "            dot = None\n",
    "\n",
    "        # SECTION DRAWING\n",
    "        frame = rect(frame, (0,0), (width, 50), BLACK, 0.5)\n",
    "        frame = cv2.putText(frame, current_section['text'], (5, 30),font, 1, (255,255,255), 2)\n",
    "        frame = cv2.rectangle(frame, (0,45), (int((f-current_section['start'])/current_section['duration']*width),50), GREEN, -1)\n",
    "\n",
    "        # SUBSECTION DRAWING\n",
    "        if current_subsection:\n",
    "            rec_w = 100\n",
    "            rec_h = 50\n",
    "            frame = rect(frame, (width-rec_w,55), (width,rec_h), BLACK, 0.5)\n",
    "            frame = cv2.putText(frame, current_subsection['text'], (width-rec_w+10, 55+rec_h-20),font, 1, (255,255,255), 2)\n",
    "            if current_subsection['duration']:\n",
    "                cue_start = current_subsection['start']\n",
    "                subsection_percent = int((f-cue_start)/current_subsection['duration']*rec_w+width-rec_w)\n",
    "                frame = cv2.rectangle(frame, (width-rec_w,rec_h+50), (subsection_percent,rec_h+55), PURPLE, -1)\n",
    "\n",
    "        # TIMECODE DRAWING\n",
    "        frame = rect(frame, (0,height-25), (80,height), BLACK, 0.8)\n",
    "        frame = cv2.putText(frame, frames_to_TC(f, fps), (10,height-8),font, 0.5, (255,255,255), 1)\n",
    "\n",
    "        # Display the resulting frame\n",
    "        #cv2.imshow('frame', frame)\n",
    "        #cv2.waitKey(25)\n",
    "        #if cv2.getWindowProperty('frame', cv2.WND_PROP_VISIBLE) <1: # Press Q on keyboard to  exit\n",
    "        #    break\n",
    "        if f%(60*fps)==0:\n",
    "            print(f\"{(f/fps) /seconds*100}%\")\n",
    "\n",
    "\n",
    "        writer.writeFrame(cv2.cvtColor(frame, cv2.COLOR_BGR2RGB))\n",
    "except KeyboardInterrupt:\n",
    "    pass\n",
    "        \n",
    "# Closes all the frames\n",
    "#cv2.destroyAllWindows()\n",
    "writer.close()\n",
    "subprocess.run(f\"ffmpeg -i {OUT_PATH} -r {fps} -i {IN_PATH} -r {fps} -c copy ./videos/snowman_track_audio.mp4 -r {fps}\")"
   ]
  },
  {
   "cell_type": "code",
   "execution_count": null,
   "metadata": {},
   "outputs": [],
   "source": []
  }
 ],
 "metadata": {
  "kernelspec": {
   "display_name": "snowman",
   "language": "python",
   "name": "snowman"
  },
  "language_info": {
   "codemirror_mode": {
    "name": "ipython",
    "version": 3
   },
   "file_extension": ".py",
   "mimetype": "text/x-python",
   "name": "python",
   "nbconvert_exporter": "python",
   "pygments_lexer": "ipython3",
   "version": "3.8.12"
  }
 },
 "nbformat": 4,
 "nbformat_minor": 4
}
